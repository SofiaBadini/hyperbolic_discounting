{
 "cells": [
  {
   "cell_type": "markdown",
   "metadata": {},
   "source": [
    "# Hyperbolic Discounting in ``respy``"
   ]
  },
  {
   "cell_type": "markdown",
   "metadata": {},
   "source": [
    "In this notebook we will show how to set up, solve, simulate and estimate a simple discrete-choice dynamic programming model for a completely naïve agent with time-inconsistent preferences using ``respy`` and ``estimagic``. "
   ]
  },
  {
   "cell_type": "markdown",
   "metadata": {},
   "source": [
    "1. [Introduction](#1)<br>\n",
    "2. [Basic Robinson Crusoe Economy](#2)<br> \n",
    "  2.1. [Model](#2.1)<br> \n",
    "  2.2. [Specification](#2.2)<br> \n",
    "  2.3. [Simulation and Analysis](#2.3)<br>\n",
    "3. [Extended Robinson Crusoe Economy](#3)<br>\n",
    "  3.1. [Model](#3.1)<br>\n",
    "  3.2. [Specification](#3.2)<br>\n",
    "  3.3. [Simulation and Analysis](#3.3)<br>\n",
    "4. [Estimation](#4)<br>"
   ]
  },
  {
   "cell_type": "markdown",
   "metadata": {},
   "source": [
    "## 1. Introduction <a class=\"anchor\" id=\"1\"></a>"
   ]
  },
  {
   "cell_type": "markdown",
   "metadata": {},
   "source": [
    "People are impatient, and tend to prefer immediate rewards and delayed costs. People also tend to experience reversals of preferences, that is, to prefer a larger and later reward to a smaller and earlier one, as long as the rewards are distant in time; but to prefer the smaller and earlier rewards as soon as both rewards get closer in time *(add source on OPR?)*.\n",
    "While the former feature is captured by exponential discounting — the assumption that people discount streams of utility over time exponentially —, the latter is not: Exponential discounting implies time-consistent preferences.\n",
    "\n",
    "An attractive representation consistent with both these features, introduced by Phelps and Pollak (1968) and later employed by Laibson (1997) and O’Donoghue and Rabin's (1999), are *hyperbolic* discount functions, also known ($\\beta$-$\\delta$) preferences:\n",
    "\n",
    "$$\n",
    "    U_t(u_t, u_{t+1}, ...) \\equiv u_t + \\beta \\sum^{T}_{k=t+1}\n",
    "            {\\delta^{k-t}u_k}\n",
    "$$\n",
    "\n",
    "where $\\beta \\in (0, 1]$ is the present-bias factor that captures time-inconsistent discounting (or present-bias, or impatience), and $\\delta \\in (0, 1]$ is the usual long-run discount factor. Time-consistent discounting is represented by the special case where $\\beta = 1$. \n",
    "\n",
    "Time-inconsistent agents can be modelled as consisting of multiple selves: The current self controls the actions of the agent, which will be observed in the data, but her decisions depends on her beliefs over the behavior of the future selves, which may or may not share the same time preferences. The agent is **completely sophisticated** if she correctly anticipates her future selves to discount according to $\\beta$, **partially sophisticated** if she anticipates $\\tilde\\beta > \\beta$, and **completely naïve** is she anticipates $\\beta = 1$, that is, she anticipates her future selves to behave time-consistently.\n",
    "\n",
    "In the following, we will focus on solving, simulating and estimating a discrete choice dynamic programming model for a completely naïve agent with time-inconsistent preferences. Similar models have been proposed in a variety of different settings including mammograpy decisions (Fang and Wang, 2010), welfare participation (Fang and Silverman, 2007, and Chan, 2017), job search (Paserman, 2008), life-cycle consumption choices (Laibson *et al.*, 2005) and response to health interventions (Mahajan and Tarozzi, 2011)."
   ]
  },
  {
   "cell_type": "code",
   "execution_count": 1,
   "metadata": {},
   "outputs": [],
   "source": [
    "%matplotlib inline\n",
    "\n",
    "import io\n",
    "import pandas as pd\n",
    "import respy as rp\n",
    "import numpy as np\n",
    "\n",
    "from estimagic.optimization.optimize import maximize\n",
    "\n",
    "from python.auxiliary_robinson import plot_robinson_choices_base\n",
    "from python.auxiliary_robinson import plot_return_experience\n",
    "from python.auxiliary_robinson import plot_myopic_vs_present_bias\n",
    "from python.auxiliary_robinson import plot_robinson_choices_extended\n",
    "from python.auxiliary_robinson import compute_profile_likelihood\n",
    "from python.auxiliary_robinson import plot_profile_likelihood"
   ]
  },
  {
   "cell_type": "markdown",
   "metadata": {},
   "source": [
    "## 2. Basic Robinson Crusoe Economy <a class=\"anchor\" id=\"2\"></a>"
   ]
  },
  {
   "cell_type": "markdown",
   "metadata": {},
   "source": [
    "### 2.1. Model <a class=\"anchor\" id=\"2.1\"></a>"
   ]
  },
  {
   "cell_type": "markdown",
   "metadata": {},
   "source": [
    "We start with a basic Robinson Crusoe economy, where Robinson is alone on a desert island and each day must choose between two alternatives: going fishing ($a=1$) or spending the day on his hammock ($a=0$). The istantaneous utility of a choice, $u_t$, consists of the sum of a wage component $W_t$ and a non-pecuniary component $N_t$, which in turn depend on Robinson's current state $s_t$ and chosen alternative $a_t$. \n",
    "\n",
    "The current state contains information on all the observed and unobserved characteristics of the model and here it is limited to the current period $t$, Robinson's experience in fishing, his choice in the previous period $t-1$, and the vector of choice-specific shocks. We refer to Robinson's observed characteristics, such as his experience in fishing, as covariates.\n",
    "\n",
    "The **wage component** is zero if Robinson chooses to spend the day on his hammock, while if Robinson goes fishing his wage at time $t$ is:\n",
    "\n",
    "$$\\begin{align}\n",
    "        W^f  &= \\exp\\{x^f_t \\beta^f + \\epsilon^f_t\\} \\\\\n",
    "\\end{align}$$\n",
    "\n",
    "where the superscript $f$ indicates the \"fishing\" alternative. The skill units are generated by the (exponentiated) dot product of $x^f_{t}$, a vector of choice- and time-dependent covariates, and $\\beta^f$, the associated vector of choice-dependent parameters, plus a random shock $\\epsilon^f_{t}$ drawn from a Normal distribution. In this basic Robinson Crusoe economy, $W^f$ is determined by only one covariate, Robinson's experience in fishing, and its associated return to experience.\n",
    "\n",
    "The **non-pecuniary component** for fishing and relaxing on the hammock at time $t$ are also the vector dot product of covariates $x^h_{t}$ and parameters $\\beta^h$, with an additional random shock entering the latter additively. In this simple model, we set both to constants. We also introduce a penalty to reflect the difficulty of storing food on a tropical island: Robinson incurs a loss $\\gamma$ if he spends two days in a row on his hammock. \n",
    "\n",
    "$$\n",
    "    N^f= \\alpha^f \\\\\n",
    "    N^h_t=   \\left\\{\n",
    "    \\begin{array}{ll}\n",
    "    \\alpha^h + \\epsilon^h_{t} & a_{t-1}=1\\\\\n",
    "    \\alpha^h - \\gamma + \\epsilon^h_{t} & a_{t-1}=0\\\\\n",
    "    \\end{array} \n",
    "\\right.  $$\n",
    "\n",
    "where the superscript $h$ indicates the \"hammock\" alternative. \n",
    "\n",
    "Robinson maximizes his (expected) sum of discounted lifetime utilities; however, he is assumed to be an **hyperbolic discounter** who is additionally **completely naïve** with respect to his own time preferences, that is, at each point in time believes he will act time-consistently in future periods. Therefore, Robinson believes that his future selves will maximize:\n",
    "\n",
    "$$\n",
    "    U_t(u_t, u_{t+1}, ...) \\equiv \\sum^{T}_{t=0}\n",
    "            {\\delta^{t}u_t}\n",
    "$$\n",
    "\n",
    "while in each period he actually maximizes:\n",
    "\n",
    "$$\n",
    "    U_t(u_t, u_{t+1}, ...) \\equiv u_t + \\beta \\sum^{T}_{k=t+1}\n",
    "            {\\delta^{k-t}u_k}\n",
    "$$\n",
    "\n",
    "The parameters of this simple model are $\\alpha^f$ and $\\alpha^h$ (the constants in the non-pecuniary components) and $\\beta^f$ (return to experience in fishing), along with $\\beta$ and $\\delta$ (time-preference parameters) and the lower triangular elements of the shocks variance-covariance matrix (which governs the distribution of the shocks). Note that shocks are allowed to be correlated across choices."
   ]
  },
  {
   "cell_type": "markdown",
   "metadata": {},
   "source": [
    "### 2.2. Specifications <a class=\"anchor\" id=\"2.2\"></a>"
   ]
  },
  {
   "cell_type": "markdown",
   "metadata": {},
   "source": [
    "We now write the model's parameters to a ``.csv`` file and load it with ``pandas``. The resulting DataFrame contains a two-level MultiIndex to group parameters (identified by a unique ``name`` and ``value``) in categories. In particult, ``\"delta\"`` and ``\"beta\"`` represents Robinson's time preferences. Below, we set ``\"beta\"`` to 0.8. "
   ]
  },
  {
   "cell_type": "code",
   "execution_count": 2,
   "metadata": {},
   "outputs": [],
   "source": [
    "params_beta = \"\"\"\n",
    "category,name,value\n",
    "beta,beta, 0.8\n",
    "delta,delta,0.95\n",
    "wage_fishing,exp_fishing,0.1\n",
    "nonpec_fishing,constant,-1\n",
    "nonpec_hammock,constant,2.5\n",
    "nonpec_hammock,not_fishing_last_period,-1\n",
    "shocks_sdcorr,sd_fishing,1\n",
    "shocks_sdcorr,sd_hammock,1\n",
    "shocks_sdcorr,corr_hammock_fishing,-0.2\n",
    "lagged_choice_1_hammock,constant,1\n",
    "\"\"\""
   ]
  },
  {
   "cell_type": "code",
   "execution_count": 3,
   "metadata": {},
   "outputs": [
    {
     "data": {
      "text/html": [
       "<div>\n",
       "<style scoped>\n",
       "    .dataframe tbody tr th:only-of-type {\n",
       "        vertical-align: middle;\n",
       "    }\n",
       "\n",
       "    .dataframe tbody tr th {\n",
       "        vertical-align: top;\n",
       "    }\n",
       "\n",
       "    .dataframe thead th {\n",
       "        text-align: right;\n",
       "    }\n",
       "</style>\n",
       "<table border=\"1\" class=\"dataframe\">\n",
       "  <thead>\n",
       "    <tr style=\"text-align: right;\">\n",
       "      <th></th>\n",
       "      <th></th>\n",
       "      <th>value</th>\n",
       "    </tr>\n",
       "    <tr>\n",
       "      <th>category</th>\n",
       "      <th>name</th>\n",
       "      <th></th>\n",
       "    </tr>\n",
       "  </thead>\n",
       "  <tbody>\n",
       "    <tr>\n",
       "      <th>beta</th>\n",
       "      <th>beta</th>\n",
       "      <td>0.80</td>\n",
       "    </tr>\n",
       "    <tr>\n",
       "      <th>delta</th>\n",
       "      <th>delta</th>\n",
       "      <td>0.95</td>\n",
       "    </tr>\n",
       "    <tr>\n",
       "      <th>wage_fishing</th>\n",
       "      <th>exp_fishing</th>\n",
       "      <td>0.10</td>\n",
       "    </tr>\n",
       "    <tr>\n",
       "      <th>nonpec_fishing</th>\n",
       "      <th>constant</th>\n",
       "      <td>-1.00</td>\n",
       "    </tr>\n",
       "    <tr>\n",
       "      <th rowspan=\"2\" valign=\"top\">nonpec_hammock</th>\n",
       "      <th>constant</th>\n",
       "      <td>2.50</td>\n",
       "    </tr>\n",
       "    <tr>\n",
       "      <th>not_fishing_last_period</th>\n",
       "      <td>-1.00</td>\n",
       "    </tr>\n",
       "    <tr>\n",
       "      <th rowspan=\"3\" valign=\"top\">shocks_sdcorr</th>\n",
       "      <th>sd_fishing</th>\n",
       "      <td>1.00</td>\n",
       "    </tr>\n",
       "    <tr>\n",
       "      <th>sd_hammock</th>\n",
       "      <td>1.00</td>\n",
       "    </tr>\n",
       "    <tr>\n",
       "      <th>corr_hammock_fishing</th>\n",
       "      <td>-0.20</td>\n",
       "    </tr>\n",
       "    <tr>\n",
       "      <th>lagged_choice_1_hammock</th>\n",
       "      <th>constant</th>\n",
       "      <td>1.00</td>\n",
       "    </tr>\n",
       "  </tbody>\n",
       "</table>\n",
       "</div>"
      ],
      "text/plain": [
       "                                                 value\n",
       "category                name                          \n",
       "beta                    beta                      0.80\n",
       "delta                   delta                     0.95\n",
       "wage_fishing            exp_fishing               0.10\n",
       "nonpec_fishing          constant                 -1.00\n",
       "nonpec_hammock          constant                  2.50\n",
       "                        not_fishing_last_period  -1.00\n",
       "shocks_sdcorr           sd_fishing                1.00\n",
       "                        sd_hammock                1.00\n",
       "                        corr_hammock_fishing     -0.20\n",
       "lagged_choice_1_hammock constant                  1.00"
      ]
     },
     "execution_count": 3,
     "metadata": {},
     "output_type": "execute_result"
    }
   ],
   "source": [
    "params_beta = pd.read_csv(io.StringIO(params_beta), index_col=[\"category\", \"name\"])\n",
    "params_beta"
   ]
  },
  {
   "cell_type": "markdown",
   "metadata": {},
   "source": [
    "In the literature, the range of the point estimates for $\\beta$ is quite wide. Laibson *et al.* (2005) estimates based on life-cycle consumption choices range between 0.51 and 0.82, while Fang and Silverman (2007) and Paserman (2008), when estimating respectively models of welfare participation for single mothers and job search for low-wage workers, recover estimates closer to 0.4.\n",
    "\n",
    "We will compare the behavior of:\n",
    "\n",
    "1. A time-consistent Robinson (``\"beta\"``= 1)\n",
    "2. A Robinson with present bias equal to 0.8\n",
    "3. A Robinson with present bias equal to 0.5\n",
    "\n",
    "Therefore, we will need two additional sets of ``params``."
   ]
  },
  {
   "cell_type": "code",
   "execution_count": 4,
   "metadata": {},
   "outputs": [],
   "source": [
    "# Set of parameters for time-consistent Robinson (as beta is read by default as 1)\n",
    "params = params_beta.drop(labels=\"beta\", level=\"category\")\n",
    "\n",
    "# Set of parameters for very impatient Robinson\n",
    "params_lowbeta = params_beta.copy()\n",
    "params_lowbeta.loc[(\"beta\", \"beta\"), \"value\"] = 0.5"
   ]
  },
  {
   "cell_type": "markdown",
   "metadata": {},
   "source": [
    "The ``options`` specifications complement ``params`` with additional information needed to solve and simulate the model, incluiding the number of periods for which decision rules are computed, the number of simulated individuals, and, importantly, the two seeds for the solution and simulation of the model.\n",
    "\n",
    "We load the default options for the basic model. Using the same ``options`` ensures comparability across the three Robinsons' pattern of choices, as the shocks are always the same for each of the three simulations -- and therefore, differences across behavior are solely driven by the different ``\"beta\"``."
   ]
  },
  {
   "cell_type": "code",
   "execution_count": 5,
   "metadata": {},
   "outputs": [],
   "source": [
    "_, options = rp.get_example_model(\"robinson_crusoe_basic\", with_data=False)"
   ]
  },
  {
   "cell_type": "markdown",
   "metadata": {},
   "source": [
    "### 2.3. Simulation and Analysis <a class=\"anchor\" id=\"2.3\"></a>"
   ]
  },
  {
   "cell_type": "markdown",
   "metadata": {},
   "source": [
    "We start by simulating the basic model for our three Robinsons."
   ]
  },
  {
   "cell_type": "code",
   "execution_count": 6,
   "metadata": {},
   "outputs": [],
   "source": [
    "# Simulation for time-consistent Robinson\n",
    "simulate = rp.get_simulate_func(params, options)\n",
    "df = simulate(params)"
   ]
  },
  {
   "cell_type": "code",
   "execution_count": 7,
   "metadata": {},
   "outputs": [],
   "source": [
    "# Simulation for impatient Robinson\n",
    "simulate = rp.get_simulate_func(params_beta, options)\n",
    "df_beta = simulate(params_beta)"
   ]
  },
  {
   "cell_type": "code",
   "execution_count": 8,
   "metadata": {},
   "outputs": [],
   "source": [
    "# Simulation for very impatient Robinson\n",
    "simulate = rp.get_simulate_func(params_lowbeta, options)\n",
    "df_lowbeta = simulate(params_lowbeta)"
   ]
  },
  {
   "cell_type": "markdown",
   "metadata": {},
   "source": [
    "We can then compare their decisions period by period with the visualizations below."
   ]
  },
  {
   "cell_type": "markdown",
   "metadata": {},
   "source": [
    "***\n",
    "_Choice Pattern_\n",
    "\n",
    "***"
   ]
  },
  {
   "cell_type": "code",
   "execution_count": 9,
   "metadata": {},
   "outputs": [
    {
     "data": {
      "image/png": "[encoded data removed]",
      "text/plain": [
       "<Figure size 864x288 with 1 Axes>"
      ]
     },
     "metadata": {
      "needs_background": "light"
     },
     "output_type": "display_data"
    }
   ],
   "source": [
    "plot_robinson_choices_base(df, df_beta, df_lowbeta)"
   ]
  },
  {
   "cell_type": "markdown",
   "metadata": {},
   "source": [
    "Note that in ``params`` we specified ``\"nonpec_fishing\"`` to be negative, and therefore a cost, while ``\"nonpec_hammock\"`` is positive, and therefore a reward. However, Robinson cannot enjoy his reward (relaxing on the hammock) two periods in a row without incurring in a penalty. \n",
    "\n",
    "As naïve hyperbolic discounters tend to procrastinate immediate costs and preproperate immediate rewards, it's no surprise that both present-biased Robinsons are less likely to go fishing than the time-consistent Robinson in each period. "
   ]
  },
  {
   "cell_type": "markdown",
   "metadata": {},
   "source": [
    "***\n",
    "_Different returns to experience_\n",
    "***"
   ]
  },
  {
   "cell_type": "code",
   "execution_count": 10,
   "metadata": {},
   "outputs": [],
   "source": [
    "# Specification of grid for evaluation\n",
    "n_points = 15\n",
    "grid_start = 0\n",
    "grid_stop = 0.3\n",
    "\n",
    "grid_points = np.linspace(grid_start, grid_stop, n_points)\n",
    "\n",
    "mean_max_exp_fishing_by_beta = []\n",
    "for p in [params.copy(), params_beta.copy(), params_lowbeta.copy()]:\n",
    "    mean_max_exp_fishing = []\n",
    "    for value in grid_points:\n",
    "        p.loc[\"wage_fishing\", \"exp_fishing\"] = value\n",
    "        df_sim = simulate(p)\n",
    "        stat = df_sim.groupby(\"Identifier\")[\"Experience_Fishing\"].max().mean()\n",
    "        mean_max_exp_fishing.append(stat)\n",
    "    mean_max_exp_fishing_by_beta.append(mean_max_exp_fishing)"
   ]
  },
  {
   "cell_type": "code",
   "execution_count": 11,
   "metadata": {},
   "outputs": [
    {
     "data": {
      "image/png": "[encoded data removed]",
      "text/plain": [
       "<Figure size 576x432 with 1 Axes>"
      ]
     },
     "metadata": {
      "needs_background": "light"
     },
     "output_type": "display_data"
    }
   ],
   "source": [
    "plot_return_experience(mean_max_exp_fishing_by_beta, grid_points)"
   ]
  },
  {
   "cell_type": "markdown",
   "metadata": {},
   "source": [
    "For the same return to experience, time-inconsistent Robinsons attain lower average level of final experience, with the behavior of the most present-biased Robinson obviously being the least reactive to an increasing return to experience. As accumulating experience in fishing, which involves an immediate cost, is the prerequisite to enjoy higher returns, a severely present-biased Robinson has little interest in accumulating such experience in the first place. However, when the return to experience is 0.3, the three Robinsons spend all their time fishing."
   ]
  },
  {
   "cell_type": "markdown",
   "metadata": {},
   "source": [
    "***\n",
    "_Comparison with completely myiopic agent_\n",
    "***"
   ]
  },
  {
   "cell_type": "markdown",
   "metadata": {},
   "source": [
    "We've seen that a present-bias agent discounts the stream of utility from future periods while falsely believing, at each point in time, that he will act time-consistently in future period. Therefore, he evaluates the sum of his discounted lifetime utility under the conviction that the future streams of utility will arise from time-consistent behavior, and choose the current alternative accordingly.\n",
    "\n",
    "On the other hand, a completely myopic agent, whose preferences are represented by a $\\delta$ equal to 0, simply chooses the alternative that provides the higher (flow) utility today, without making any assumption about his future behavior nor putting any weight on his future utility: The DCDP model collapse to the static case (Keane, Todd and Wolpin, 2011). \n",
    "\n",
    "We may want to compare the pattern of behavior produced by an high degree of present bias, to that produced by a completely myopic agent."
   ]
  },
  {
   "cell_type": "code",
   "execution_count": 12,
   "metadata": {},
   "outputs": [],
   "source": [
    "# Set of parameters for myopic Robinson\n",
    "params_myopic = params.copy()\n",
    "params_myopic.loc[(\"delta\", \"delta\"), \"value\"] = 0"
   ]
  },
  {
   "cell_type": "code",
   "execution_count": 13,
   "metadata": {},
   "outputs": [],
   "source": [
    "# Simulation for myopic Robinson\n",
    "simulate = rp.get_simulate_func(params_myopic, options)\n",
    "df_myopic = simulate(params_myopic)"
   ]
  },
  {
   "cell_type": "code",
   "execution_count": 14,
   "metadata": {},
   "outputs": [
    {
     "data": {
      "image/png": "[encoded data removed]",
      "text/plain": [
       "<Figure size 864x288 with 2 Axes>"
      ]
     },
     "metadata": {
      "needs_background": "light"
     },
     "output_type": "display_data"
    }
   ],
   "source": [
    "plot_myopic_vs_present_bias(df_myopic, df_lowbeta)"
   ]
  },
  {
   "cell_type": "markdown",
   "metadata": {},
   "source": [
    "In this basic Robinson Crusoe economy (and for this set of parameters) the classical model requires a very, very low $\\delta$ for Robinson to fish in few periods, while a similarly low fishing time can be produced by more reasonable parameters in the hyperbolic discounting setting. As noted by Rabin (2002), exponential discounting is essentially a theory of infinite patience in the short-term, since assuming even *some* taste for immediate gratification translates into extremely low yearly discount rate. \n",
    "\n",
    "Obviously, the behavior of completely myopic and present-biased Robinson grows increasingly different the larger the return to experience: present-biased Robinson spends much more time fishing than completely myopic Robinson, as the former has still an interest in accumulating fishing experience despite his high present bias. "
   ]
  },
  {
   "cell_type": "markdown",
   "metadata": {},
   "source": [
    "***\n",
    "_Welfare loss_ **(to be finished)**\n",
    "***"
   ]
  },
  {
   "cell_type": "markdown",
   "metadata": {},
   "source": [
    "Before moving to the next section, we briefly touch the issue of welfare loss. As noted in O'Donoghue and Rabin (1999), welfare comparisons for hyperbolic discounters are in principle problematic, precisely because time preferences are dynamically inconsistent and a certain strategy may make some selves better off while making other selves worse off. Strong criteria such as Pareto-efficiency, which ranks as \"best\" a strategy which is (weakly) preferred by all selves, may be not informative. \n",
    "\n",
    "O'Donoghue and Rabin take a \"long-run perspective\" to compare welfare outcomes [...]"
   ]
  },
  {
   "cell_type": "markdown",
   "metadata": {},
   "source": [
    "## 3. Extended Model  <a class=\"anchor\" id=\"3\"></a>"
   ]
  },
  {
   "cell_type": "markdown",
   "metadata": {},
   "source": [
    "### 3.1. Model <a class=\"anchor\" id=\"3.1\"></a>"
   ]
  },
  {
   "cell_type": "markdown",
   "metadata": {},
   "source": [
    "We extend the basic model to include a new alternative to the choice set: Robinson can now ask Friday, an experience fisherman, for help, but only once and only if Robinson has been fishing before. The interaction with Friday increases the return to experience in fishing, which in turn will increase $W^f$ in future periods, but enters negatively Robinson's utility function in the current period. Indeed, its **wage component** is zero, while its **non-pecuniary component** is a negative, to reflect the effort costs of learning and the food penalty:\n",
    "\n",
    "This time we compare the behavior of a time-consistent Robinson with that of a time-inconsistent Robinson with ``\"beta\"`` = 0.8. Given these extensions and what we have already seen in the basic model, we expect:\n",
    "\n",
    "- Time-inconsistent Robinson to be less likely to interact with Friday, as costs are procrastinated;\n",
    "- Time-inconsistent Robinson to incur in a welfare loss with respect to time-consistent Robinson, since not interacting with Friday means a lower return to experience in fishing and therefore a lower $W^f$ in future periods."
   ]
  },
  {
   "cell_type": "markdown",
   "metadata": {},
   "source": [
    "### 3.2. Specifications <a class=\"anchor\" id=\"3.2\"></a>"
   ]
  },
  {
   "cell_type": "markdown",
   "metadata": {},
   "source": [
    "First, we load the model's options and parameters for the former. Now ``params_ext`` include an additional ``category``, ``\"nonpec_friday\"``, which is indeed set to a negative value, while ``\"contemplation_with_friday\"`` under ``\"wage_fishing\"`` is set to a positive value. The additional restrictions to Robinson's interaction with Friday are mapped to ``options_ext``."
   ]
  },
  {
   "cell_type": "code",
   "execution_count": 53,
   "metadata": {},
   "outputs": [],
   "source": [
    "params_ext, options_ext = rp.get_example_model(\n",
    "    \"robinson_crusoe_extended\", with_data=False\n",
    ")"
   ]
  },
  {
   "cell_type": "markdown",
   "metadata": {},
   "source": [
    "Then, we create another set of parameters for time-inconsistent Robinson, who differs from the previous one only in the value of ``\"beta\"``:"
   ]
  },
  {
   "cell_type": "code",
   "execution_count": 60,
   "metadata": {},
   "outputs": [],
   "source": [
    "index = pd.MultiIndex.from_tuples([(\"beta\", \"beta\")], names=[\"category\", \"name\"])\n",
    "beta = pd.DataFrame(0.8, index=index, columns=[\"value\"])\n",
    "params_beta_ext = beta.append(params_ext)"
   ]
  },
  {
   "cell_type": "markdown",
   "metadata": {},
   "source": [
    "### 3.3. Simulation and Analysis <a class=\"anchor\" id=\"3.3\"></a>"
   ]
  },
  {
   "cell_type": "markdown",
   "metadata": {},
   "source": [
    "Again, we simulate the model for time-consistent and for time-inconsistent Robinson:"
   ]
  },
  {
   "cell_type": "code",
   "execution_count": 61,
   "metadata": {},
   "outputs": [],
   "source": [
    "simulate = rp.get_simulate_func(params_ext, options_ext)\n",
    "df_ext = simulate(params_ext)"
   ]
  },
  {
   "cell_type": "code",
   "execution_count": 62,
   "metadata": {},
   "outputs": [],
   "source": [
    "simulate = rp.get_simulate_func(params_beta_ext, options_ext)\n",
    "df_beta_ext = simulate(params_beta_ext)"
   ]
  },
  {
   "cell_type": "markdown",
   "metadata": {},
   "source": [
    "***\n",
    "_Choice pattern_\n",
    "***"
   ]
  },
  {
   "cell_type": "code",
   "execution_count": 63,
   "metadata": {},
   "outputs": [
    {
     "data": {
      "image/png": "[encoded data removed]",
      "text/plain": [
       "<Figure size 864x288 with 2 Axes>"
      ]
     },
     "metadata": {
      "needs_background": "light"
     },
     "output_type": "display_data"
    }
   ],
   "source": [
    "plot_robinson_choices_extended(df_ext, df_beta_ext)"
   ]
  },
  {
   "cell_type": "markdown",
   "metadata": {},
   "source": [
    "Unsurprisingly, a Robinson who's a completely naïve, time-inconsistent discounter is less likely to interact with Friday, who would teach him how to fish but affect Robinson's utility negatively in that period. For a present-bias of 0.5 Robinson almost never interacts with Friday."
   ]
  },
  {
   "cell_type": "markdown",
   "metadata": {},
   "source": [
    "## 4. Estimation <a class=\"anchor\" id=\"4\"></a>"
   ]
  },
  {
   "cell_type": "markdown",
   "metadata": {},
   "source": [
    "**Work in progress.**"
   ]
  },
  {
   "cell_type": "code",
   "execution_count": 65,
   "metadata": {},
   "outputs": [],
   "source": [
    "# Get the criterion function\n",
    "crit_func = rp.get_crit_func(params_beta_ext, options_ext, df_beta_ext)\n",
    "\n",
    "# Constrain shock parameters to have valid variances and correlation\n",
    "constr = rp.get_parameter_constraints(\"robinson_crusoe\")"
   ]
  },
  {
   "cell_type": "code",
   "execution_count": 24,
   "metadata": {},
   "outputs": [],
   "source": [
    "results_sim, estimates_sim = maximize(\n",
    "    crit_func,\n",
    "    params_beta_ext,\n",
    "    \"scipy_L-BFGS-B\",\n",
    "    algo_options={\"maxfun\": 100},\n",
    "    constraints=constr,\n",
    "    dashboard=False,\n",
    ")"
   ]
  },
  {
   "cell_type": "code",
   "execution_count": 25,
   "metadata": {},
   "outputs": [
    {
     "data": {
      "text/html": [
       "<div>\n",
       "<style scoped>\n",
       "    .dataframe tbody tr th:only-of-type {\n",
       "        vertical-align: middle;\n",
       "    }\n",
       "\n",
       "    .dataframe tbody tr th {\n",
       "        vertical-align: top;\n",
       "    }\n",
       "\n",
       "    .dataframe thead th {\n",
       "        text-align: right;\n",
       "    }\n",
       "</style>\n",
       "<table border=\"1\" class=\"dataframe\">\n",
       "  <thead>\n",
       "    <tr style=\"text-align: right;\">\n",
       "      <th></th>\n",
       "      <th></th>\n",
       "      <th>estimate</th>\n",
       "      <th>true value</th>\n",
       "    </tr>\n",
       "    <tr>\n",
       "      <th>category</th>\n",
       "      <th>name</th>\n",
       "      <th></th>\n",
       "      <th></th>\n",
       "    </tr>\n",
       "  </thead>\n",
       "  <tbody>\n",
       "    <tr>\n",
       "      <th>beta</th>\n",
       "      <th>beta</th>\n",
       "      <td>0.794095</td>\n",
       "      <td>0.80</td>\n",
       "    </tr>\n",
       "    <tr>\n",
       "      <th>delta</th>\n",
       "      <th>delta</th>\n",
       "      <td>0.954747</td>\n",
       "      <td>0.95</td>\n",
       "    </tr>\n",
       "    <tr>\n",
       "      <th rowspan=\"2\" valign=\"top\">wage_fishing</th>\n",
       "      <th>exp_fishing</th>\n",
       "      <td>0.106429</td>\n",
       "      <td>0.10</td>\n",
       "    </tr>\n",
       "    <tr>\n",
       "      <th>contemplation_with_friday</th>\n",
       "      <td>0.372352</td>\n",
       "      <td>0.40</td>\n",
       "    </tr>\n",
       "    <tr>\n",
       "      <th>nonpec_fishing</th>\n",
       "      <th>constant</th>\n",
       "      <td>-1.020948</td>\n",
       "      <td>-1.00</td>\n",
       "    </tr>\n",
       "    <tr>\n",
       "      <th rowspan=\"2\" valign=\"top\">nonpec_friday</th>\n",
       "      <th>constant</th>\n",
       "      <td>-0.963576</td>\n",
       "      <td>-1.00</td>\n",
       "    </tr>\n",
       "    <tr>\n",
       "      <th>not_fishing_last_period</th>\n",
       "      <td>-0.959206</td>\n",
       "      <td>-1.00</td>\n",
       "    </tr>\n",
       "    <tr>\n",
       "      <th rowspan=\"2\" valign=\"top\">nonpec_hammock</th>\n",
       "      <th>constant</th>\n",
       "      <td>2.484162</td>\n",
       "      <td>2.50</td>\n",
       "    </tr>\n",
       "    <tr>\n",
       "      <th>not_fishing_last_period</th>\n",
       "      <td>-1.007896</td>\n",
       "      <td>-1.00</td>\n",
       "    </tr>\n",
       "    <tr>\n",
       "      <th rowspan=\"6\" valign=\"top\">shocks_sdcorr</th>\n",
       "      <th>sd_fishing</th>\n",
       "      <td>0.985982</td>\n",
       "      <td>1.00</td>\n",
       "    </tr>\n",
       "    <tr>\n",
       "      <th>sd_friday</th>\n",
       "      <td>1.070354</td>\n",
       "      <td>1.00</td>\n",
       "    </tr>\n",
       "    <tr>\n",
       "      <th>sd_hammock</th>\n",
       "      <td>1.027088</td>\n",
       "      <td>1.00</td>\n",
       "    </tr>\n",
       "    <tr>\n",
       "      <th>corr_friday_fishing</th>\n",
       "      <td>-0.043361</td>\n",
       "      <td>0.00</td>\n",
       "    </tr>\n",
       "    <tr>\n",
       "      <th>corr_hammock_fishing</th>\n",
       "      <td>0.025632</td>\n",
       "      <td>0.00</td>\n",
       "    </tr>\n",
       "    <tr>\n",
       "      <th>corr_hammock_friday</th>\n",
       "      <td>-0.053158</td>\n",
       "      <td>0.00</td>\n",
       "    </tr>\n",
       "    <tr>\n",
       "      <th>lagged_choice_1_hammock</th>\n",
       "      <th>constant</th>\n",
       "      <td>1.000000</td>\n",
       "      <td>1.00</td>\n",
       "    </tr>\n",
       "    <tr>\n",
       "      <th>inadmissibility_penalty</th>\n",
       "      <th>inadmissibility_penalty</th>\n",
       "      <td>-20.000000</td>\n",
       "      <td>-20.00</td>\n",
       "    </tr>\n",
       "  </tbody>\n",
       "</table>\n",
       "</div>"
      ],
      "text/plain": [
       "                                                    estimate  true value\n",
       "category                name                                            \n",
       "beta                    beta                        0.794095        0.80\n",
       "delta                   delta                       0.954747        0.95\n",
       "wage_fishing            exp_fishing                 0.106429        0.10\n",
       "                        contemplation_with_friday   0.372352        0.40\n",
       "nonpec_fishing          constant                   -1.020948       -1.00\n",
       "nonpec_friday           constant                   -0.963576       -1.00\n",
       "                        not_fishing_last_period    -0.959206       -1.00\n",
       "nonpec_hammock          constant                    2.484162        2.50\n",
       "                        not_fishing_last_period    -1.007896       -1.00\n",
       "shocks_sdcorr           sd_fishing                  0.985982        1.00\n",
       "                        sd_friday                   1.070354        1.00\n",
       "                        sd_hammock                  1.027088        1.00\n",
       "                        corr_friday_fishing        -0.043361        0.00\n",
       "                        corr_hammock_fishing        0.025632        0.00\n",
       "                        corr_hammock_friday        -0.053158        0.00\n",
       "lagged_choice_1_hammock constant                    1.000000        1.00\n",
       "inadmissibility_penalty inadmissibility_penalty   -20.000000      -20.00"
      ]
     },
     "execution_count": 25,
     "metadata": {},
     "output_type": "execute_result"
    }
   ],
   "source": [
    "estimated_params = pd.DataFrame(estimates_sim[\"value\"]).rename(\n",
    "    columns={\"value\": \"estimate\"}\n",
    ")\n",
    "true_params = pd.DataFrame(params_beta_ext[\"value\"]).rename(\n",
    "    columns={\"value\": \"true value\"}\n",
    ")\n",
    "comparison = pd.concat([estimated_params, true_params], axis=1)\n",
    "\n",
    "comparison"
   ]
  },
  {
   "cell_type": "code",
   "execution_count": 68,
   "metadata": {},
   "outputs": [],
   "source": [
    "params_sim = params_beta_ext.copy()\n",
    "params_sim[\"lower\"] = params_sim[\"value\"].values\n",
    "params_sim[\"upper\"] = params_sim[\"value\"].values\n",
    "params_sim.loc[[\"beta\", \"delta\"], \"lower\"] = [0.794, 0.948]\n",
    "params_sim.loc[[\"beta\", \"delta\"], \"upper\"] = [0.802, 0.955]"
   ]
  },
  {
   "cell_type": "code",
   "execution_count": 69,
   "metadata": {},
   "outputs": [],
   "source": [
    "results_sim = compute_profile_likelihood(params_sim, options_ext, df_beta_ext)"
   ]
  },
  {
   "cell_type": "code",
   "execution_count": 75,
   "metadata": {},
   "outputs": [
    {
     "data": {
      "image/png": "[encoded data removed]",
      "text/plain": [
       "<Figure size 432x288 with 1 Axes>"
      ]
     },
     "metadata": {
      "needs_background": "light"
     },
     "output_type": "display_data"
    },
    {
     "data": {
      "image/png": "[encoded data removed]",
      "text/plain": [
       "<Figure size 432x288 with 1 Axes>"
      ]
     },
     "metadata": {
      "needs_background": "light"
     },
     "output_type": "display_data"
    }
   ],
   "source": [
    "plot_profile_likelihood(results_sim, params_sim, estimates_sim)"
   ]
  },
  {
   "cell_type": "markdown",
   "metadata": {},
   "source": [
    "The grey line indicates the true value, the red line indicates the value recovered by ML estimation."
   ]
  },
  {
   "cell_type": "markdown",
   "metadata": {},
   "source": [
    "***\n",
    "*Simulated vs. observed data*\n",
    "***"
   ]
  },
  {
   "cell_type": "markdown",
   "metadata": {},
   "source": [
    "Fitting the model on an \"observed\" dataset (generated by the same model, but with a different simulation seed). No perturbation of true parameters at this stage."
   ]
  },
  {
   "cell_type": "code",
   "execution_count": 76,
   "metadata": {},
   "outputs": [],
   "source": [
    "# Generate \"observed\" data\n",
    "options_obs = options_ext.copy()\n",
    "options_obs[\"simulation_seed\"] = 24\n",
    "\n",
    "simulate = rp.get_simulate_func(params_beta_ext, options_obs)\n",
    "df_obs = simulate(params_beta_ext)"
   ]
  },
  {
   "cell_type": "code",
   "execution_count": 77,
   "metadata": {},
   "outputs": [],
   "source": [
    "# Get the criterion function\n",
    "crit_func = rp.get_crit_func(params_beta_ext, options_ext, df_obs)"
   ]
  },
  {
   "cell_type": "code",
   "execution_count": 31,
   "metadata": {},
   "outputs": [],
   "source": [
    "results_obs, estimates_obs = maximize(\n",
    "    crit_func,\n",
    "    params_beta_ext,\n",
    "    \"scipy_L-BFGS-B\",\n",
    "    algo_options={\"maxfun\": 100},\n",
    "    constraints=constr,\n",
    "    dashboard=False,\n",
    ")"
   ]
  },
  {
   "cell_type": "code",
   "execution_count": 32,
   "metadata": {},
   "outputs": [
    {
     "data": {
      "text/html": [
       "<div>\n",
       "<style scoped>\n",
       "    .dataframe tbody tr th:only-of-type {\n",
       "        vertical-align: middle;\n",
       "    }\n",
       "\n",
       "    .dataframe tbody tr th {\n",
       "        vertical-align: top;\n",
       "    }\n",
       "\n",
       "    .dataframe thead th {\n",
       "        text-align: right;\n",
       "    }\n",
       "</style>\n",
       "<table border=\"1\" class=\"dataframe\">\n",
       "  <thead>\n",
       "    <tr style=\"text-align: right;\">\n",
       "      <th></th>\n",
       "      <th></th>\n",
       "      <th>estimate</th>\n",
       "      <th>true value</th>\n",
       "    </tr>\n",
       "    <tr>\n",
       "      <th>category</th>\n",
       "      <th>name</th>\n",
       "      <th></th>\n",
       "      <th></th>\n",
       "    </tr>\n",
       "  </thead>\n",
       "  <tbody>\n",
       "    <tr>\n",
       "      <th>beta</th>\n",
       "      <th>beta</th>\n",
       "      <td>0.790348</td>\n",
       "      <td>0.80</td>\n",
       "    </tr>\n",
       "    <tr>\n",
       "      <th>delta</th>\n",
       "      <th>delta</th>\n",
       "      <td>0.952525</td>\n",
       "      <td>0.95</td>\n",
       "    </tr>\n",
       "    <tr>\n",
       "      <th rowspan=\"2\" valign=\"top\">wage_fishing</th>\n",
       "      <th>exp_fishing</th>\n",
       "      <td>0.099880</td>\n",
       "      <td>0.10</td>\n",
       "    </tr>\n",
       "    <tr>\n",
       "      <th>contemplation_with_friday</th>\n",
       "      <td>0.389495</td>\n",
       "      <td>0.40</td>\n",
       "    </tr>\n",
       "    <tr>\n",
       "      <th>nonpec_fishing</th>\n",
       "      <th>constant</th>\n",
       "      <td>-1.001236</td>\n",
       "      <td>-1.00</td>\n",
       "    </tr>\n",
       "    <tr>\n",
       "      <th rowspan=\"2\" valign=\"top\">nonpec_friday</th>\n",
       "      <th>constant</th>\n",
       "      <td>-0.967824</td>\n",
       "      <td>-1.00</td>\n",
       "    </tr>\n",
       "    <tr>\n",
       "      <th>not_fishing_last_period</th>\n",
       "      <td>-0.992094</td>\n",
       "      <td>-1.00</td>\n",
       "    </tr>\n",
       "    <tr>\n",
       "      <th rowspan=\"2\" valign=\"top\">nonpec_hammock</th>\n",
       "      <th>constant</th>\n",
       "      <td>2.469303</td>\n",
       "      <td>2.50</td>\n",
       "    </tr>\n",
       "    <tr>\n",
       "      <th>not_fishing_last_period</th>\n",
       "      <td>-0.946876</td>\n",
       "      <td>-1.00</td>\n",
       "    </tr>\n",
       "    <tr>\n",
       "      <th rowspan=\"6\" valign=\"top\">shocks_sdcorr</th>\n",
       "      <th>sd_fishing</th>\n",
       "      <td>1.023378</td>\n",
       "      <td>1.00</td>\n",
       "    </tr>\n",
       "    <tr>\n",
       "      <th>sd_friday</th>\n",
       "      <td>1.064695</td>\n",
       "      <td>1.00</td>\n",
       "    </tr>\n",
       "    <tr>\n",
       "      <th>sd_hammock</th>\n",
       "      <td>1.122283</td>\n",
       "      <td>1.00</td>\n",
       "    </tr>\n",
       "    <tr>\n",
       "      <th>corr_friday_fishing</th>\n",
       "      <td>-0.044188</td>\n",
       "      <td>0.00</td>\n",
       "    </tr>\n",
       "    <tr>\n",
       "      <th>corr_hammock_fishing</th>\n",
       "      <td>0.054304</td>\n",
       "      <td>0.00</td>\n",
       "    </tr>\n",
       "    <tr>\n",
       "      <th>corr_hammock_friday</th>\n",
       "      <td>-0.049812</td>\n",
       "      <td>0.00</td>\n",
       "    </tr>\n",
       "    <tr>\n",
       "      <th>lagged_choice_1_hammock</th>\n",
       "      <th>constant</th>\n",
       "      <td>1.000000</td>\n",
       "      <td>1.00</td>\n",
       "    </tr>\n",
       "    <tr>\n",
       "      <th>inadmissibility_penalty</th>\n",
       "      <th>inadmissibility_penalty</th>\n",
       "      <td>-20.000000</td>\n",
       "      <td>-20.00</td>\n",
       "    </tr>\n",
       "  </tbody>\n",
       "</table>\n",
       "</div>"
      ],
      "text/plain": [
       "                                                    estimate  true value\n",
       "category                name                                            \n",
       "beta                    beta                        0.790348        0.80\n",
       "delta                   delta                       0.952525        0.95\n",
       "wage_fishing            exp_fishing                 0.099880        0.10\n",
       "                        contemplation_with_friday   0.389495        0.40\n",
       "nonpec_fishing          constant                   -1.001236       -1.00\n",
       "nonpec_friday           constant                   -0.967824       -1.00\n",
       "                        not_fishing_last_period    -0.992094       -1.00\n",
       "nonpec_hammock          constant                    2.469303        2.50\n",
       "                        not_fishing_last_period    -0.946876       -1.00\n",
       "shocks_sdcorr           sd_fishing                  1.023378        1.00\n",
       "                        sd_friday                   1.064695        1.00\n",
       "                        sd_hammock                  1.122283        1.00\n",
       "                        corr_friday_fishing        -0.044188        0.00\n",
       "                        corr_hammock_fishing        0.054304        0.00\n",
       "                        corr_hammock_friday        -0.049812        0.00\n",
       "lagged_choice_1_hammock constant                    1.000000        1.00\n",
       "inadmissibility_penalty inadmissibility_penalty   -20.000000      -20.00"
      ]
     },
     "execution_count": 32,
     "metadata": {},
     "output_type": "execute_result"
    }
   ],
   "source": [
    "estimated_params_obs = pd.DataFrame(estimates_obs[\"value\"]).rename(\n",
    "    columns={\"value\": \"estimate\"}\n",
    ")\n",
    "comparison_obs = pd.concat([estimated_params_obs, true_params], axis=1)\n",
    "\n",
    "comparison_obs"
   ]
  },
  {
   "cell_type": "code",
   "execution_count": 78,
   "metadata": {},
   "outputs": [],
   "source": [
    "params_sim.loc[[\"beta\", \"delta\"], \"lower\"] = [0.785, 0.948]\n",
    "params_sim.loc[[\"beta\", \"delta\"], \"upper\"] = [0.805, 0.955]"
   ]
  },
  {
   "cell_type": "code",
   "execution_count": 79,
   "metadata": {},
   "outputs": [],
   "source": [
    "results_obs = compute_profile_likelihood(params_sim, options_ext, df_obs)"
   ]
  },
  {
   "cell_type": "code",
   "execution_count": 84,
   "metadata": {},
   "outputs": [
    {
     "data": {
      "image/png": "[encoded data removed]",
      "text/plain": [
       "<Figure size 432x288 with 1 Axes>"
      ]
     },
     "metadata": {
      "needs_background": "light"
     },
     "output_type": "display_data"
    },
    {
     "data": {
      "image/png": "[encoded data removed]",
      "text/plain": [
       "<Figure size 432x288 with 1 Axes>"
      ]
     },
     "metadata": {
      "needs_background": "light"
     },
     "output_type": "display_data"
    }
   ],
   "source": [
    "plot_profile_likelihood(results_obs, params_sim, estimates_obs)"
   ]
  },
  {
   "cell_type": "markdown",
   "metadata": {},
   "source": [
    "The grey line indicates the true value, the red line indicates the value recovered by ML estimation."
   ]
  },
  {
   "cell_type": "markdown",
   "metadata": {},
   "source": [
    "***\n",
    "*Lower beta*\n",
    "***"
   ]
  },
  {
   "cell_type": "code",
   "execution_count": 36,
   "metadata": {},
   "outputs": [],
   "source": [
    "# Set lower beta and generate dataset\n",
    "params_lowbeta_ext = params_beta_ext.copy()\n",
    "params_lowbeta_ext.loc[(\"beta\", \"beta\"), \"value\"] = 0.4\n",
    "\n",
    "simulate = rp.get_simulate_func(params_lowbeta_ext, options_ext)\n",
    "df_lowbeta_ext = simulate(params_lowbeta_ext)"
   ]
  },
  {
   "cell_type": "code",
   "execution_count": 37,
   "metadata": {},
   "outputs": [],
   "source": [
    "# Get the criterion function\n",
    "crit_func = rp.get_crit_func(params_lowbeta_ext, options_ext, df_lowbeta_ext)"
   ]
  },
  {
   "cell_type": "code",
   "execution_count": 38,
   "metadata": {},
   "outputs": [],
   "source": [
    "results_lowbeta, estimates_lowbeta = maximize(\n",
    "    crit_func,\n",
    "    params_lowbeta_ext,\n",
    "    \"scipy_L-BFGS-B\",\n",
    "    algo_options={\"maxfun\": 100},\n",
    "    constraints=constr,\n",
    "    dashboard=False,\n",
    ")"
   ]
  },
  {
   "cell_type": "code",
   "execution_count": 43,
   "metadata": {},
   "outputs": [
    {
     "data": {
      "text/html": [
       "<div>\n",
       "<style scoped>\n",
       "    .dataframe tbody tr th:only-of-type {\n",
       "        vertical-align: middle;\n",
       "    }\n",
       "\n",
       "    .dataframe tbody tr th {\n",
       "        vertical-align: top;\n",
       "    }\n",
       "\n",
       "    .dataframe thead th {\n",
       "        text-align: right;\n",
       "    }\n",
       "</style>\n",
       "<table border=\"1\" class=\"dataframe\">\n",
       "  <thead>\n",
       "    <tr style=\"text-align: right;\">\n",
       "      <th></th>\n",
       "      <th></th>\n",
       "      <th>estimate</th>\n",
       "      <th>true value</th>\n",
       "    </tr>\n",
       "    <tr>\n",
       "      <th>category</th>\n",
       "      <th>name</th>\n",
       "      <th></th>\n",
       "      <th></th>\n",
       "    </tr>\n",
       "  </thead>\n",
       "  <tbody>\n",
       "    <tr>\n",
       "      <th>beta</th>\n",
       "      <th>beta</th>\n",
       "      <td>0.359736</td>\n",
       "      <td>0.40</td>\n",
       "    </tr>\n",
       "    <tr>\n",
       "      <th>delta</th>\n",
       "      <th>delta</th>\n",
       "      <td>0.988639</td>\n",
       "      <td>0.95</td>\n",
       "    </tr>\n",
       "    <tr>\n",
       "      <th rowspan=\"2\" valign=\"top\">wage_fishing</th>\n",
       "      <th>exp_fishing</th>\n",
       "      <td>0.099919</td>\n",
       "      <td>0.10</td>\n",
       "    </tr>\n",
       "    <tr>\n",
       "      <th>contemplation_with_friday</th>\n",
       "      <td>0.346028</td>\n",
       "      <td>0.40</td>\n",
       "    </tr>\n",
       "    <tr>\n",
       "      <th>nonpec_fishing</th>\n",
       "      <th>constant</th>\n",
       "      <td>-1.015283</td>\n",
       "      <td>-1.00</td>\n",
       "    </tr>\n",
       "    <tr>\n",
       "      <th rowspan=\"2\" valign=\"top\">nonpec_friday</th>\n",
       "      <th>constant</th>\n",
       "      <td>-0.977242</td>\n",
       "      <td>-1.00</td>\n",
       "    </tr>\n",
       "    <tr>\n",
       "      <th>not_fishing_last_period</th>\n",
       "      <td>-0.981571</td>\n",
       "      <td>-1.00</td>\n",
       "    </tr>\n",
       "    <tr>\n",
       "      <th rowspan=\"2\" valign=\"top\">nonpec_hammock</th>\n",
       "      <th>constant</th>\n",
       "      <td>2.491535</td>\n",
       "      <td>2.50</td>\n",
       "    </tr>\n",
       "    <tr>\n",
       "      <th>not_fishing_last_period</th>\n",
       "      <td>-0.973769</td>\n",
       "      <td>-1.00</td>\n",
       "    </tr>\n",
       "    <tr>\n",
       "      <th rowspan=\"6\" valign=\"top\">shocks_sdcorr</th>\n",
       "      <th>sd_fishing</th>\n",
       "      <td>0.989611</td>\n",
       "      <td>1.00</td>\n",
       "    </tr>\n",
       "    <tr>\n",
       "      <th>sd_friday</th>\n",
       "      <td>1.065262</td>\n",
       "      <td>1.00</td>\n",
       "    </tr>\n",
       "    <tr>\n",
       "      <th>sd_hammock</th>\n",
       "      <td>1.061619</td>\n",
       "      <td>1.00</td>\n",
       "    </tr>\n",
       "    <tr>\n",
       "      <th>corr_friday_fishing</th>\n",
       "      <td>-0.016653</td>\n",
       "      <td>0.00</td>\n",
       "    </tr>\n",
       "    <tr>\n",
       "      <th>corr_hammock_fishing</th>\n",
       "      <td>-0.018672</td>\n",
       "      <td>0.00</td>\n",
       "    </tr>\n",
       "    <tr>\n",
       "      <th>corr_hammock_friday</th>\n",
       "      <td>0.006709</td>\n",
       "      <td>0.00</td>\n",
       "    </tr>\n",
       "    <tr>\n",
       "      <th>lagged_choice_1_hammock</th>\n",
       "      <th>constant</th>\n",
       "      <td>1.000000</td>\n",
       "      <td>1.00</td>\n",
       "    </tr>\n",
       "    <tr>\n",
       "      <th>inadmissibility_penalty</th>\n",
       "      <th>inadmissibility_penalty</th>\n",
       "      <td>-20.000000</td>\n",
       "      <td>-20.00</td>\n",
       "    </tr>\n",
       "  </tbody>\n",
       "</table>\n",
       "</div>"
      ],
      "text/plain": [
       "                                                    estimate  true value\n",
       "category                name                                            \n",
       "beta                    beta                        0.359736        0.40\n",
       "delta                   delta                       0.988639        0.95\n",
       "wage_fishing            exp_fishing                 0.099919        0.10\n",
       "                        contemplation_with_friday   0.346028        0.40\n",
       "nonpec_fishing          constant                   -1.015283       -1.00\n",
       "nonpec_friday           constant                   -0.977242       -1.00\n",
       "                        not_fishing_last_period    -0.981571       -1.00\n",
       "nonpec_hammock          constant                    2.491535        2.50\n",
       "                        not_fishing_last_period    -0.973769       -1.00\n",
       "shocks_sdcorr           sd_fishing                  0.989611        1.00\n",
       "                        sd_friday                   1.065262        1.00\n",
       "                        sd_hammock                  1.061619        1.00\n",
       "                        corr_friday_fishing        -0.016653        0.00\n",
       "                        corr_hammock_fishing       -0.018672        0.00\n",
       "                        corr_hammock_friday         0.006709        0.00\n",
       "lagged_choice_1_hammock constant                    1.000000        1.00\n",
       "inadmissibility_penalty inadmissibility_penalty   -20.000000      -20.00"
      ]
     },
     "execution_count": 43,
     "metadata": {},
     "output_type": "execute_result"
    }
   ],
   "source": [
    "estimated_params_lowbeta = pd.DataFrame(estimates_lowbeta[\"value\"]).rename(\n",
    "    columns={\"value\": \"estimate\"}\n",
    ")\n",
    "true_params = pd.DataFrame(params_lowbeta_ext[\"value\"]).rename(\n",
    "    columns={\"value\": \"true value\"}\n",
    ")\n",
    "comparison_lowbeta = pd.concat([estimated_params_lowbeta, true_params], axis=1)\n",
    "\n",
    "comparison_lowbeta"
   ]
  },
  {
   "cell_type": "code",
   "execution_count": 40,
   "metadata": {},
   "outputs": [],
   "source": [
    "params_lowbeta_ext[\"lower\"] = params_lowbeta_ext[\"value\"].values\n",
    "params_lowbeta_ext[\"upper\"] = params_lowbeta_ext[\"value\"].values\n",
    "params_lowbeta_ext.loc[[\"beta\", \"delta\"], \"lower\"] = [0.31, 0.949]\n",
    "params_lowbeta_ext.loc[[\"beta\", \"delta\"], \"upper\"] = [0.41, 1.01]"
   ]
  },
  {
   "cell_type": "code",
   "execution_count": 41,
   "metadata": {},
   "outputs": [],
   "source": [
    "results_lowbeta = compute_profile_likelihood(\n",
    "    params_lowbeta_ext, options_ext, df_lowbeta_ext\n",
    ")"
   ]
  },
  {
   "cell_type": "code",
   "execution_count": 42,
   "metadata": {},
   "outputs": [
    {
     "data": {
      "image/png": "[encoded data removed]",
      "text/plain": [
       "<Figure size 432x288 with 1 Axes>"
      ]
     },
     "metadata": {
      "needs_background": "light"
     },
     "output_type": "display_data"
    },
    {
     "data": {
      "image/png": "[encoded data removed]",
      "text/plain": [
       "<Figure size 432x288 with 1 Axes>"
      ]
     },
     "metadata": {
      "needs_background": "light"
     },
     "output_type": "display_data"
    }
   ],
   "source": [
    "plot_profile_likelihood(results_lowbeta, params_lowbeta_ext, estimates_lowbeta)"
   ]
  },
  {
   "cell_type": "markdown",
   "metadata": {},
   "source": [
    "The grey line indicates the true value, the red line indicates the value recovered by ML estimation."
   ]
  },
  {
   "cell_type": "markdown",
   "metadata": {},
   "source": [
    "## References "
   ]
  },
  {
   "cell_type": "markdown",
   "metadata": {},
   "source": [
    "Chan, M. K. (2017). [Welfare Dependence and Self-Control: An Empirical Analysis](https://doi.org/10.1093/restud/rdx011). *The Review of Economic Studies*, 84(4): 1379–1423.<br>\n",
    "\n",
    "Fang, H., and Silverman, D. (2009). [Time-Inconsistency and Welfare Program Participation: Evidence from the NLSY](www.jstor.org/stable/25621500). *International Economic Review*, 50(4): 1043-1077.<br> \n",
    "\n",
    "Keane, M. P., Todd, P. E. and Wolpin, K. I. (2011). [The Structural Estimation of Behavioral Models: Discrete Choice Dynamic Programming Methods and Applications](https://doi.org/10.1016/S0169-7218(11)00410-2). Handbook of Labor Economics. 4: 331-461.<br>\n",
    "\n",
    "Laibson, D.I. (1997). [Golden eggs and hyperbolic discounting](https://doi.org/10.1162/003355397555253). *Quarterly Journal of Economics*, 112(2): 443–77.<br>\n",
    "\n",
    "Laibson, D.I., Repetto, A. and Tobacman, J. (2007). [Estimating Discount Functions with Consumption Choices Over the Lifecycle](https://ssrn.com/abstract=1008808). NBER Working Paper No. w13314. Available at SSRN.<br>\n",
    "\n",
    "O'Donoghue, T. and Rabin, M. (1999). [Doing It Now or Later](https://doi.org/10.1257/aer.89.1.103). *American Economic Review*, 89(1): 103-124.<br>\n",
    "\n",
    "Paserman, M. (2008). [Job Search and Hyperbolic Discounting: Structural Estimation and Policy Evaluation](www.jstor.org/stable/20108865). *The Economic Journal*, 118(531): 1418-1452.  \n",
    "\n",
    "Phelps, E.S. and Pollak, R.A. (1968). [On second-best national saving and game-equilibrium growth](www.jstor.org/stable/2296547). *Review of Economic Studies*, 35(2): 185–99. \n",
    "\n",
    "Tarozzi, A., and Aprajit, M. (2011). [Time Inconsistency, Expectations and Technology Adoption: The Case of Insecticide Treated Nets](https://ssrn.com/abstract=1881106 ). *Economic Research Initiatives at Duke (ERID) Working Paper No. 105.* Available at SSRN.<br>"
   ]
  }
 ],
 "metadata": {
  "kernelspec": {
   "display_name": "Python 3",
   "language": "python",
   "name": "python3"
  },
  "language_info": {
   "codemirror_mode": {
    "name": "ipython",
    "version": 3
   },
   "file_extension": ".py",
   "mimetype": "text/x-python",
   "name": "python",
   "nbconvert_exporter": "python",
   "pygments_lexer": "ipython3",
   "version": "3.7.6"
  }
 },
 "nbformat": 4,
 "nbformat_minor": 4
}
